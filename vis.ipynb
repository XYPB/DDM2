{
 "cells": [
  {
   "cell_type": "code",
   "execution_count": 17,
   "metadata": {},
   "outputs": [
    {
     "name": "stderr",
     "output_type": "stream",
     "text": [
      "C:\\Users\\XYPB\\AppData\\Local\\Temp\\ipykernel_13584\\2031616880.py:16: DeprecationWarning: Please use `binary_dilation` from the `scipy.ndimage` namespace, the `scipy.ndimage.morphology` namespace is deprecated.\n",
      "  from scipy.ndimage.morphology import binary_dilation\n"
     ]
    }
   ],
   "source": [
    "import numpy as np\n",
    "import copy\n",
    "from dipy.core.gradients import gradient_table\n",
    "from dipy.data import get_fnames\n",
    "from dipy.io.gradients import read_bvals_bvecs\n",
    "from dipy.io.image import load_nifti, save_nifti\n",
    "from dipy.segment.mask import median_otsu\n",
    "from dipy.reconst.dti import TensorModel\n",
    "from dipy.segment.mask import segment_from_cfa\n",
    "from dipy.segment.mask import bounding_box\n",
    "import dipy.reconst.cross_validation as xval\n",
    "import dipy.reconst.dti as DTI\n",
    "import dipy.reconst.csdeconv as CSD\n",
    "import matplotlib.pyplot as plt\n",
    "import scipy.stats as stats\n",
    "from scipy.ndimage.morphology import binary_dilation"
   ]
  },
  {
   "cell_type": "code",
   "execution_count": 2,
   "metadata": {},
   "outputs": [],
   "source": [
    "s3sh_fname = 'dataset\\sherbrooke_3shell\\HARDI193.nii.gz'\n",
    "\n",
    "data, affine = load_nifti(s3sh_fname)"
   ]
  },
  {
   "cell_type": "code",
   "execution_count": 9,
   "metadata": {},
   "outputs": [],
   "source": [
    "def norm_data(data):\n",
    "    min_data = np.min(data, axis=(0,1,2), keepdims=True)\n",
    "    max_data = np.max(data, axis=(0,1,2), keepdims=True)\n",
    "    return (data.astype(np.float32) - min_data) / (max_data - min_data)"
   ]
  },
  {
   "cell_type": "code",
   "execution_count": 12,
   "metadata": {},
   "outputs": [],
   "source": [
    "import PIL.Image as Image\n",
    "\n",
    "data = norm_data(data)\n",
    "data = (255*data).astype(np.uint8)\n",
    "imgs = []\n",
    "for i in range(data.shape[-2]):\n",
    "    imgs.append(Image.fromarray(data[:,:,i,40]))"
   ]
  },
  {
   "cell_type": "code",
   "execution_count": 16,
   "metadata": {},
   "outputs": [],
   "source": [
    "imgs[0].save('s3sh_voxel_40.gif', save_all=True, append_images=imgs[1:], duration=100, loop=0)"
   ]
  },
  {
   "cell_type": "code",
   "execution_count": 37,
   "metadata": {},
   "outputs": [],
   "source": [
    "data, affine = load_nifti('experiments/hardi150_denoise_230426_211632_baseline/results/hardi150_denoised.nii.gz')\n",
    "plt.imsave('./tmp/match/ddm2.png', data[:,:,34, 40], cmap='gray')"
   ]
  },
  {
   "cell_type": "code",
   "execution_count": 32,
   "metadata": {},
   "outputs": [],
   "source": [
    "data, affine = load_nifti('dataset/stanford_hardi/HARDI150_canny.nii.gz')\n",
    "# data = norm_data(data)\n",
    "# data = (255 * data).astype(np.uint8)\n",
    "plt.imsave('./tmp/match/canny.png', data[:,:,34, 40], cmap='gray')"
   ]
  },
  {
   "cell_type": "code",
   "execution_count": 31,
   "metadata": {},
   "outputs": [],
   "source": [
    "data, affine = load_nifti('experiments/hardi150_denoise_230430_115119_control/results/hardi150_denoised.nii.gz')\n",
    "# data = norm_data(data)\n",
    "# data = (255 * data).astype(np.uint8)\n",
    "plt.imsave('./tmp/match/control.png', data[:,:,34, 40], cmap='gray')"
   ]
  },
  {
   "cell_type": "code",
   "execution_count": null,
   "metadata": {},
   "outputs": [],
   "source": []
  }
 ],
 "metadata": {
  "kernelspec": {
   "display_name": "voxel",
   "language": "python",
   "name": "python3"
  },
  "language_info": {
   "codemirror_mode": {
    "name": "ipython",
    "version": 3
   },
   "file_extension": ".py",
   "mimetype": "text/x-python",
   "name": "python",
   "nbconvert_exporter": "python",
   "pygments_lexer": "ipython3",
   "version": "3.10.6"
  },
  "orig_nbformat": 4
 },
 "nbformat": 4,
 "nbformat_minor": 2
}
