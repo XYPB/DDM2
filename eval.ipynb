{
 "cells": [
  {
   "cell_type": "code",
   "execution_count": 1,
   "metadata": {},
   "outputs": [
    {
     "name": "stderr",
     "output_type": "stream",
     "text": [
      "c:\\Users\\XYPB\\miniconda3\\envs\\voxel\\lib\\site-packages\\tqdm\\auto.py:22: TqdmWarning: IProgress not found. Please update jupyter and ipywidgets. See https://ipywidgets.readthedocs.io/en/stable/user_install.html\n",
      "  from .autonotebook import tqdm as notebook_tqdm\n",
      "C:\\Users\\XYPB\\AppData\\Local\\Temp\\ipykernel_24380\\44306461.py:16: DeprecationWarning: Please use `binary_dilation` from the `scipy.ndimage` namespace, the `scipy.ndimage.morphology` namespace is deprecated.\n",
      "  from scipy.ndimage.morphology import binary_dilation\n"
     ]
    }
   ],
   "source": [
    "import numpy as np\n",
    "import copy\n",
    "from dipy.core.gradients import gradient_table\n",
    "from dipy.data import get_fnames\n",
    "from dipy.io.gradients import read_bvals_bvecs\n",
    "from dipy.io.image import load_nifti, save_nifti\n",
    "from dipy.segment.mask import median_otsu\n",
    "from dipy.reconst.dti import TensorModel\n",
    "from dipy.segment.mask import segment_from_cfa\n",
    "from dipy.segment.mask import bounding_box\n",
    "import dipy.reconst.cross_validation as xval\n",
    "import dipy.reconst.dti as DTI\n",
    "import dipy.reconst.csdeconv as CSD\n",
    "import matplotlib.pyplot as plt\n",
    "import scipy.stats as stats\n",
    "from scipy.ndimage.morphology import binary_dilation\n"
   ]
  },
  {
   "cell_type": "code",
   "execution_count": 137,
   "metadata": {},
   "outputs": [],
   "source": [
    "class SNRMetric(object):\n",
    "\n",
    "    def __init__(self, bvals, bvecs) -> None:\n",
    "        self.gtab = gradient_table(bvals, bvecs)\n",
    "        self.tenmodel = TensorModel(self.gtab)\n",
    "\n",
    "    def eval(self, data):\n",
    "        _, self.mask = median_otsu(data, vol_idx=[0])\n",
    "        tensorfit = self.tenmodel.fit(data)\n",
    "\n",
    "        threshold = (0.6, 1, 0, 0.1, 0, 0.1)\n",
    "        CC_box = np.zeros_like(data[..., 0])\n",
    "\n",
    "        mins, maxs = bounding_box(self.mask)\n",
    "        mins = np.array(mins)\n",
    "        maxs = np.array(maxs)\n",
    "        diff = (maxs - mins) // 4\n",
    "        bounds_min = mins + diff\n",
    "        bounds_max = maxs - diff\n",
    "\n",
    "        CC_box[bounds_min[0]:bounds_max[0],\n",
    "               bounds_min[1]:bounds_max[1],\n",
    "               bounds_min[2]:bounds_max[2]] = 1\n",
    "\n",
    "        mask_cc_part, cfa = segment_from_cfa(tensorfit, CC_box, threshold,\n",
    "                                             return_cfa=True)\n",
    "        mask_cc_part = mask_cc_part\n",
    "\n",
    "        mean_signal = np.mean(data[mask_cc_part], axis=0)\n",
    "\n",
    "        mask_noise = binary_dilation(self.mask, iterations=10)\n",
    "        mask_noise[..., :mask_noise.shape[-1]//2] = 1\n",
    "        mask_noise = ~mask_noise\n",
    "\n",
    "        noise_std = np.std(data[mask_noise, :])\n",
    "        return mean_signal, noise_std"
   ]
  },
  {
   "cell_type": "code",
   "execution_count": 2,
   "metadata": {},
   "outputs": [],
   "source": [
    "class MRIMetrics():\n",
    "    def __init__(self, bvals, bvecs, raw_data):\n",
    "        self.gtab = self.gtab = gradient_table(bvals, bvecs)\n",
    "        self.dti_model = DTI.TensorModel(self.gtab)\n",
    "        self.raw_data = raw_data\n",
    "        self.raw_data_slice = None\n",
    "        _, self.mask = median_otsu(raw_data, vol_idx=[0, 1])\n",
    "\n",
    "    def fit_model(self, data):\n",
    "        response, ratio = CSD.auto_response_ssst(self.gtab, data, roi_radii=10, fa_thr=0.7)\n",
    "        csd_model = CSD.ConstrainedSphericalDeconvModel(self.gtab, response)\n",
    "        return csd_model, response\n",
    "\n",
    "    def pearsonr(self, data, dti):\n",
    "        return stats.pearsonr(data, dti)[0] ** 2\n",
    "\n",
    "    def eval(self, data_slice, csd_model, response):\n",
    "\n",
    "        dti_slice = xval.kfold_xval(self.dti_model, data_slice, 2)\n",
    "        csd_slice = xval.kfold_xval(csd_model, data_slice, 2, response)\n",
    "        print(self.raw_data_slice.shape, dti_slice.shape)\n",
    "\n",
    "        r2s_dti = []\n",
    "        for i in range(0, dti_slice.shape[0]):\n",
    "            for j in range(0, dti_slice.shape[1]):\n",
    "                for k in range(0, dti_slice.shape[2]):\n",
    "                    dti_r2 = stats.pearsonr(data_slice[i, j, k], dti_slice[i, j, k])[0] ** 2\n",
    "                    r2s_dti.append(dti_r2)\n",
    "        r2s_dti = np.array(r2s_dti)\n",
    "        r2s_dti = r2s_dti[~np.isnan(r2s_dti)]\n",
    "\n",
    "        r2s_csd = []\n",
    "        for i in range(0, csd_slice.shape[0]):\n",
    "            for j in range(0, csd_slice.shape[1]):\n",
    "                for k in range(0, csd_slice.shape[2]):\n",
    "                    csd_r2 = stats.pearsonr(data_slice[i, j, k], csd_slice[i, j, k])[0] ** 2\n",
    "                    r2s_csd.append(csd_r2)\n",
    "        r2s_csd = np.array(r2s_csd)\n",
    "        r2s_csd = r2s_csd[~np.isnan(r2s_csd)]\n",
    "\n",
    "        return r2s_dti, r2s_csd\n",
    "\n",
    "    def calc(self, data, slice=38):\n",
    "        print(data.shape)\n",
    "        csd_model, response = self.fit_model(data)\n",
    "\n",
    "        data_masked = copy.deepcopy(data)\n",
    "\n",
    "        if slice is not None:\n",
    "            data_masked = data_masked[..., slice:slice+1, :]\n",
    "            data_masked[self.mask[..., slice:slice+1] == 0] = 0\n",
    "            self.raw_data_slice = self.raw_data[..., slice:slice+1, :]\n",
    "            self.raw_data_slice[self.mask[..., slice:slice+1] == 0] = 0\n",
    "\n",
    "        dti, csd = self.eval(data_masked, csd_model, response)\n",
    "\n",
    "        return dti, csd"
   ]
  },
  {
   "cell_type": "code",
   "execution_count": 3,
   "metadata": {},
   "outputs": [],
   "source": [
    "def norm_data(data):\n",
    "    min_data = np.min(data, axis=(0,1,2), keepdims=True)\n",
    "    max_data = np.max(data, axis=(0,1,2), keepdims=True)\n",
    "    return (data.astype(np.float32) - min_data) / (max_data - min_data)"
   ]
  },
  {
   "cell_type": "code",
   "execution_count": 4,
   "metadata": {},
   "outputs": [
    {
     "name": "stdout",
     "output_type": "stream",
     "text": [
      "(81, 106, 76, 151)\n",
      "(81, 106, 76, 151)\n",
      "(81, 106, 76, 151)\n",
      "(81, 106, 76, 151)\n",
      "(81, 106, 76, 151)\n"
     ]
    }
   ],
   "source": [
    "hardi_fname = 'dataset/stanford_hardi/HARDI150.nii.gz'\n",
    "hardi_bval_fname = 'dataset/stanford_hardi/HARDI150.bval'\n",
    "hardi_bvec_fname = 'dataset/stanford_hardi/HARDI150.bvec'\n",
    "\n",
    "data, affine = load_nifti(hardi_fname)\n",
    "data = norm_data(data)\n",
    "bvals, bvecs = read_bvals_bvecs(hardi_bval_fname, hardi_bvec_fname)\n",
    "voxel_mask = [0] + list(range(10, 160))\n",
    "# voxel_mask = list(range(10, 160))\n",
    "data = data[..., voxel_mask]\n",
    "bvals = bvals[voxel_mask]\n",
    "bvecs = bvecs[voxel_mask]\n",
    "print(data.shape)\n",
    "\n",
    "our_data, affine = load_nifti('experiments/hardi150_denoise_230430_115119_control/results/hardi150_denoised.nii.gz')\n",
    "our_data = norm_data(our_data)\n",
    "our_data = np.concatenate([data[..., [0]], our_data], axis=-1)\n",
    "print(our_data.shape)\n",
    "\n",
    "ddm_data, affine = load_nifti('experiments/hardi150_denoise_230426_211632_baseline/results/hardi150_denoised.nii.gz')\n",
    "ddm_data = norm_data(ddm_data)\n",
    "ddm_data = np.concatenate([data[..., [0]], ddm_data], axis=-1)\n",
    "print(ddm_data.shape)\n",
    "\n",
    "ddim_data, affine = load_nifti('experiments/hardi150_denoise_230430_033002_ddim/results/hardi150_denoised.nii.gz')\n",
    "ddim_data = norm_data(ddim_data)\n",
    "ddim_data = np.concatenate([data[..., [0]], ddim_data], axis=-1)\n",
    "print(ddim_data.shape)\n",
    "\n",
    "p2s_data, affine = load_nifti('experiments/hardi150_p2s/denoised_StanfordHardi_p2s_mlp.nii.gz')\n",
    "p2s_data = norm_data(p2s_data)\n",
    "p2s_data = np.concatenate([data[..., [0]], p2s_data[..., 10:160]], axis=-1)\n",
    "print(p2s_data.shape)"
   ]
  },
  {
   "cell_type": "code",
   "execution_count": 8,
   "metadata": {},
   "outputs": [
    {
     "name": "stdout",
     "output_type": "stream",
     "text": [
      "(128, 128, 60, 65)\n",
      "(128, 128, 60, 65)\n",
      "(128, 128, 60, 65)\n",
      "(128, 128, 60, 65)\n"
     ]
    }
   ],
   "source": [
    "hardi_fname = 'dataset/sherbrooke_3shell/HARDI193.nii.gz'\n",
    "hardi_bval_fname = 'dataset/sherbrooke_3shell/HARDI193.bval'\n",
    "hardi_bvec_fname = 'dataset/sherbrooke_3shell/HARDI193.bvec'\n",
    "\n",
    "data, affine = load_nifti(hardi_fname)\n",
    "data = norm_data(data)\n",
    "bvals, bvecs = read_bvals_bvecs(hardi_bval_fname, hardi_bvec_fname)\n",
    "voxel_mask = [0] + list(range(65,129))\n",
    "# voxel_mask = list(range(65,129))\n",
    "data = data[..., voxel_mask]\n",
    "bvals = bvals[voxel_mask]\n",
    "bvecs = bvecs[voxel_mask]\n",
    "print(data.shape)\n",
    "\n",
    "our_data, affine = load_nifti('experiments/s3sh_denoise_230430_224918_control/results/s3sh_denoised.nii.gz')\n",
    "our_data = norm_data(our_data)\n",
    "our_data = np.concatenate([data[..., [0]], our_data], axis=-1)\n",
    "print(our_data.shape)\n",
    "\n",
    "ddm_data, affine = load_nifti('experiments/s3sh_denoise_230426_233927_baseline/results/s3sh_denoised.nii.gz')\n",
    "ddm_data = norm_data(ddm_data)\n",
    "ddm_data = np.concatenate([data[..., [0]], ddm_data], axis=-1)\n",
    "print(ddm_data.shape)\n",
    "\n",
    "ddim_data, affine = load_nifti('experiments/s3sh_denoise_230430_045617_ddim/results/s3sh_denoised.nii.gz')\n",
    "ddim_data = norm_data(ddim_data)\n",
    "ddim_data = np.concatenate([data[..., [0]], ddim_data], axis=-1)\n",
    "print(ddim_data.shape)\n",
    "\n",
    "p2s_data, affine = load_nifti('experiments/s3sh_p2s/denoised_sherbrooke_3shell_p2s_mlp.nii.gz')\n",
    "p2s_data = norm_data(p2s_data)\n",
    "p2s_data = np.concatenate([data[..., [0]], p2s_data[..., 65:129]], axis=-1)"
   ]
  },
  {
   "cell_type": "code",
   "execution_count": 210,
   "metadata": {},
   "outputs": [],
   "source": [
    "M = SNRMetric(bvals, bvecs)"
   ]
  },
  {
   "cell_type": "code",
   "execution_count": 139,
   "metadata": {},
   "outputs": [
    {
     "name": "stdout",
     "output_type": "stream",
     "text": [
      "0.12262054 0.009125202\n",
      "0.10491611 0.0082704965\n",
      "0.098483495 0.008887185\n",
      "0.10788838 0.008703155\n"
     ]
    }
   ],
   "source": [
    "snr, std = M.eval(data)\n",
    "print(np.mean(snr), std)\n",
    "\n",
    "ddm_snr, ddm_std = M.eval(ddm_data)\n",
    "print(np.mean(ddm_snr), ddm_std)\n",
    "\n",
    "ddim_snr, ddim_std = M.eval(ddim_data)\n",
    "print(np.mean(ddim_snr), ddim_std)\n",
    "\n",
    "our_snr, our_std = M.eval(our_data)\n",
    "print(np.mean(our_snr), our_std)"
   ]
  },
  {
   "cell_type": "code",
   "execution_count": 5,
   "metadata": {},
   "outputs": [],
   "source": [
    "M = MRIMetrics(bvals, bvecs, data)"
   ]
  },
  {
   "cell_type": "code",
   "execution_count": 6,
   "metadata": {},
   "outputs": [
    {
     "name": "stdout",
     "output_type": "stream",
     "text": [
      "(81, 106, 76, 151)\n"
     ]
    },
    {
     "name": "stderr",
     "output_type": "stream",
     "text": [
      "100%|██████████| 8586/8586 [00:01<00:00, 6747.07it/s] \n",
      "100%|██████████| 8586/8586 [00:01<00:00, 7172.96it/s] \n"
     ]
    },
    {
     "name": "stdout",
     "output_type": "stream",
     "text": [
      "(81, 106, 1, 151) (81, 106, 1, 151)\n"
     ]
    },
    {
     "name": "stderr",
     "output_type": "stream",
     "text": [
      "c:\\Users\\XYPB\\miniconda3\\envs\\voxel\\lib\\site-packages\\scipy\\stats\\_stats_py.py:4427: ConstantInputWarning: An input array is constant; the correlation coefficient is not defined.\n",
      "  warnings.warn(stats.ConstantInputWarning(msg))\n"
     ]
    },
    {
     "name": "stdout",
     "output_type": "stream",
     "text": [
      "(81, 106, 76, 151)\n"
     ]
    },
    {
     "name": "stderr",
     "output_type": "stream",
     "text": [
      "100%|██████████| 8586/8586 [00:01<00:00, 5645.27it/s] \n",
      "100%|██████████| 8586/8586 [00:01<00:00, 6329.70it/s] \n"
     ]
    },
    {
     "name": "stdout",
     "output_type": "stream",
     "text": [
      "(81, 106, 1, 151) (81, 106, 1, 151)\n",
      "(81, 106, 76, 151)\n"
     ]
    },
    {
     "name": "stderr",
     "output_type": "stream",
     "text": [
      "100%|██████████| 8586/8586 [00:01<00:00, 6751.34it/s] \n",
      "100%|██████████| 8586/8586 [00:01<00:00, 6531.25it/s] \n"
     ]
    },
    {
     "name": "stdout",
     "output_type": "stream",
     "text": [
      "(81, 106, 1, 151) (81, 106, 1, 151)\n",
      "(81, 106, 76, 151)\n"
     ]
    },
    {
     "name": "stderr",
     "output_type": "stream",
     "text": [
      "100%|██████████| 8586/8586 [00:01<00:00, 7465.09it/s] \n",
      "100%|██████████| 8586/8586 [00:01<00:00, 7400.96it/s] \n"
     ]
    },
    {
     "name": "stdout",
     "output_type": "stream",
     "text": [
      "(81, 106, 1, 151) (81, 106, 1, 151)\n",
      "(81, 106, 76, 151)\n"
     ]
    },
    {
     "name": "stderr",
     "output_type": "stream",
     "text": [
      "100%|██████████| 8586/8586 [00:01<00:00, 6638.46it/s] \n",
      "100%|██████████| 8586/8586 [00:01<00:00, 6581.15it/s] \n"
     ]
    },
    {
     "name": "stdout",
     "output_type": "stream",
     "text": [
      "(81, 106, 1, 151) (81, 106, 1, 151)\n"
     ]
    }
   ],
   "source": [
    "dti, csd = M.calc(data, slice=38)\n",
    "ddm_dti, ddm_csd = M.calc(ddm_data, slice=38)\n",
    "ddim_dti, ddim_csd = M.calc(ddim_data, slice=38)\n",
    "our_dti, our_csd = M.calc(our_data, slice=38)\n",
    "p2s_dti, p2s_csd = M.calc(p2s_data, slice=38)\n",
    "\n",
    "# dti, csd = M.calc(data, slice=40)\n",
    "# ddm_dti, ddm_csd = M.calc(ddm_data, slice=40)\n",
    "# ddim_dti, ddim_csd = M.calc(ddim_data, slice=40)\n",
    "# our_dti, our_csd = M.calc(our_data, slice=40)\n",
    "# p2s_dti, p2s_csd = M.calc(p2s_data, slice=40)"
   ]
  },
  {
   "cell_type": "code",
   "execution_count": 7,
   "metadata": {},
   "outputs": [
    {
     "name": "stdout",
     "output_type": "stream",
     "text": [
      "0.1132704732753677 0.4571446321938515\n",
      "0.3554203948177111 0.6941505745761443\n",
      "0.29712117959384604 0.3822510306154425\n",
      "0.22605008792687034 0.7319355799604101\n",
      "0.181737992405789 0.6819041148086104\n"
     ]
    }
   ],
   "source": [
    "print(np.mean(dti), np.mean(csd))\n",
    "print(np.mean(ddm_dti), np.mean(ddm_csd))\n",
    "print(np.mean(ddim_dti), np.mean(ddim_csd))\n",
    "print(np.mean(our_dti), np.mean(our_csd))\n",
    "print(np.mean(p2s_dti), np.mean(p2s_csd))"
   ]
  },
  {
   "cell_type": "code",
   "execution_count": 34,
   "metadata": {},
   "outputs": [],
   "source": [
    "dtis = [dti, ddm_dti, ddim_dti, our_dti, p2s_dti]\n",
    "csds = [csd, ddm_csd, ddim_csd, our_csd, p2s_csd]\n",
    "max_len = np.max([len(dti), len(ddm_dti), len(ddim_dti), len(p2s_dti), len(our_dti)])\n",
    "\n",
    "\n",
    "for i in range(5):\n",
    "    if len(dtis[i]) < max_len:\n",
    "        padding = max_len - len(dtis[i])\n",
    "        dtis[i] = np.pad(dtis[i], (0, padding), mode='mean')\n",
    "        csds[i] = np.pad(csds[i], (0, padding), mode='mean')\n",
    "dti, ddm_dti, ddim_dti, our_dti, p2s_dti = dtis\n",
    "csd, ddm_csd, ddim_csd, our_csd, p2s_csd = csds"
   ]
  },
  {
   "cell_type": "code",
   "execution_count": 35,
   "metadata": {},
   "outputs": [
    {
     "name": "stdout",
     "output_type": "stream",
     "text": [
      "0.2673424704363587\n",
      "0.16135284017703558\n",
      "0.053535019693238706\n",
      "0.0786933420348218\n",
      "0.3022898133487804\n",
      "0.1688481552652662\n",
      "0.08245568299800357\n",
      "0.04178476558689754\n"
     ]
    }
   ],
   "source": [
    "print(np.mean(p2s_dti - dti))\n",
    "print(np.std(p2s_dti - dti))\n",
    "\n",
    "print(np.mean(ddm_dti - dti))\n",
    "print(np.std(ddm_dti - dti))\n",
    "\n",
    "print(np.mean(ddim_dti - dti))\n",
    "print(np.std(ddim_dti - dti))\n",
    "\n",
    "print(np.mean(our_dti - dti))\n",
    "print(np.std(our_dti - dti))"
   ]
  },
  {
   "cell_type": "code",
   "execution_count": 36,
   "metadata": {},
   "outputs": [
    {
     "data": {
      "image/png": "[encoded data removed]",
      "text/plain": [
       "<Figure size 640x480 with 1 Axes>"
      ]
     },
     "metadata": {},
     "output_type": "display_data"
    }
   ],
   "source": [
    "%matplotlib inline\n",
    "import seaborn as sns\n",
    "from statannot import add_stat_annotation\n",
    "import pandas as pd\n",
    "\n",
    "p2s_diff = p2s_dti - dti\n",
    "# p2s_diff = p2s_diff[p2s_diff != 0]\n",
    "ddm_diff = ddm_dti - dti\n",
    "# ddm_diff = ddm_diff[ddm_diff != 0]\n",
    "ddim_diff = ddim_dti - dti\n",
    "# ddim_diff = ddim_diff[ddim_diff != 0]\n",
    "our_diff = our_dti - dti\n",
    "# our_diff = our_diff[our_diff != 0]\n",
    "\n",
    "df_diff = pd.DataFrame({'P2S DTI':p2s_diff,\n",
    "                        'DDM DTI':ddm_diff,\n",
    "                        'DDIM DTI':ddim_diff,\n",
    "                        'Ours DTI':our_diff})\n",
    "\n",
    "sns.set(style=\"whitegrid\")\n",
    "ax = sns.boxplot(x=\"variable\", y=\"value\", data=pd.melt(df_diff), fliersize=0, sym='', palette=\"Set2\")\n"
   ]
  },
  {
   "cell_type": "code",
   "execution_count": 37,
   "metadata": {},
   "outputs": [
    {
     "data": {
      "image/png": "[encoded data removed]",
      "text/plain": [
       "<Figure size 640x480 with 1 Axes>"
      ]
     },
     "metadata": {},
     "output_type": "display_data"
    }
   ],
   "source": [
    "df_diff = pd.DataFrame({'P2S CSD':p2s_csd - csd,\n",
    "                        'DDM CSD':ddm_csd - csd,\n",
    "                        'DDIM CSD':ddim_csd - csd,\n",
    "                        'Ours CSD':our_csd - csd})\n",
    "\n",
    "sns.set(style=\"whitegrid\")\n",
    "ax = sns.boxplot(x=\"variable\", y=\"value\", data=pd.melt(df_diff), fliersize=0, sym='', palette=\"Set2\")"
   ]
  },
  {
   "cell_type": "code",
   "execution_count": 9,
   "metadata": {},
   "outputs": [
    {
     "name": "stdout",
     "output_type": "stream",
     "text": [
      "(128, 128, 60, 65)\n",
      "(128, 128, 60, 65)\n",
      "(128, 128, 60, 65)\n",
      "(128, 128, 60, 65)\n",
      "(128, 128, 60, 65)\n"
     ]
    }
   ],
   "source": [
    "canny, affine = load_nifti('dataset/sherbrooke_3shell/HARDI193_canny.nii.gz')\n",
    "voxel_mask = [0] + list(range(65,129))\n",
    "canny = canny[..., voxel_mask]\n",
    "canny = norm_data(canny)\n",
    "print(canny.shape)\n",
    "\n",
    "p2s_canny, affine = load_nifti('experiments/s3sh_p2s/denoised_sherbrooke_3shell_p2s_mlp_canny.nii.gz')\n",
    "voxel_mask = [0] + list(range(65,129))\n",
    "p2s_canny = p2s_canny[..., voxel_mask]\n",
    "p2s_canny = norm_data(p2s_canny)\n",
    "print(canny.shape)\n",
    "\n",
    "ddm_canny, affine = load_nifti('experiments/s3sh_denoise_230426_233927_baseline/results/s3sh_denoised_canny.nii.gz')\n",
    "ddm_canny = np.concatenate((canny[..., [0]], ddm_canny), axis=-1)\n",
    "ddm_canny = norm_data(ddm_canny)\n",
    "print(ddm_canny.shape)\n",
    "\n",
    "ddim_canny, affine = load_nifti('experiments/s3sh_denoise_230430_045617_ddim/results/s3sh_denoised_canny.nii.gz')\n",
    "ddim_canny = np.concatenate((canny[..., [0]], ddim_canny), axis=-1)\n",
    "ddim_canny = norm_data(ddim_canny)\n",
    "print(ddm_canny.shape)\n",
    "\n",
    "our_canny, affine = load_nifti('experiments/s3sh_denoise_230430_224918_control/results/s3sh_denoised_canny.nii.gz')\n",
    "our_canny = np.concatenate((canny[..., [0]], our_canny), axis=-1)\n",
    "our_canny = norm_data(our_canny)\n",
    "print(ddm_canny.shape)"
   ]
  },
  {
   "cell_type": "code",
   "execution_count": null,
   "metadata": {},
   "outputs": [],
   "source": [
    "canny, affine = load_nifti('dataset\\stanford_hardi\\HARDI150_canny.nii.gz')\n",
    "voxel_mask = [0] + list(range(10, 160))\n",
    "canny = canny[..., voxel_mask]\n",
    "canny = norm_data(canny)\n",
    "\n",
    "p2s_canny, affine = load_nifti('experiments/hardi150_p2s/denoised_StanfordHardi_p2s_mlp_canny.nii.gz')\n",
    "voxel_mask = [0] + list(range(10, 160))\n",
    "p2s_canny = p2s_canny[..., voxel_mask]\n",
    "p2s_canny = norm_data(p2s_canny)\n",
    "\n",
    "ddm_canny, affine = load_nifti('experiments/hardi150_denoise_230426_211632_baseline/results/hardi150_denoised_canny.nii.gz')\n",
    "ddm_canny = np.concatenate((canny[..., [0]], ddm_canny), axis=-1)\n",
    "ddm_canny = norm_data(ddm_canny)\n",
    "\n",
    "ddim_canny, affine = load_nifti('experiments/hardi150_denoise_230430_033002_ddim/results/hardi150_denoised_canny.nii.gz')\n",
    "ddim_canny = np.concatenate((canny[..., [0]], ddim_canny), axis=-1)\n",
    "ddim_canny = norm_data(ddim_canny)\n",
    "\n",
    "our_canny, affine = load_nifti('experiments/hardi150_denoise_230430_115119_control/results/hardi150_denoised_canny.nii.gz')\n",
    "our_canny = np.concatenate((canny[..., [0]], our_canny), axis=-1)\n",
    "our_canny = norm_data(our_canny)"
   ]
  },
  {
   "cell_type": "code",
   "execution_count": 10,
   "metadata": {},
   "outputs": [
    {
     "name": "stdout",
     "output_type": "stream",
     "text": [
      "0.7122603804399095\n",
      "0.7867151365972507\n",
      "0.696257910946215\n",
      "0.8873615347272198\n"
     ]
    }
   ],
   "source": [
    "from skimage.metrics import structural_similarity as ssim\n",
    "slice = 40\n",
    "\n",
    "ssim_scores_p2s = []\n",
    "for slice in range(10, canny.shape[-2]-10):\n",
    "    for i in range(canny.shape[-1]):\n",
    "        score = 0\n",
    "        score += ssim(p2s_canny[..., slice:slice+1, i].squeeze(), canny[..., slice:slice+1, i].squeeze(), data_range=1)\n",
    "        # score += ssim(p2s_data[..., slice:slice+1, i].squeeze(), data[..., slice:slice+1, i].squeeze(), data_range=1, gaussian_weights=True)\n",
    "        ssim_scores_p2s.append(score)\n",
    "ssim_scores_p2s = np.array(ssim_scores_p2s)\n",
    "\n",
    "ssim_scores_ddm = []\n",
    "for slice in range(10, canny.shape[-2]-10):\n",
    "    for i in range(canny.shape[-1]):\n",
    "        score = 0\n",
    "        score += ssim(ddm_canny[..., slice:slice+1, i].squeeze(), canny[..., slice:slice+1, i].squeeze(), data_range=1)\n",
    "        # score += ssim(ddm_data[..., slice:slice+1, i].squeeze(), data[..., slice:slice+1, i].squeeze(), data_range=1, gaussian_weights=True)\n",
    "        ssim_scores_ddm.append(score)\n",
    "ssim_scores_ddm = np.array(ssim_scores_ddm)\n",
    "\n",
    "ssim_scores_ddim = []\n",
    "for slice in range(10, canny.shape[-2]-10):\n",
    "    for i in range(canny.shape[-1]):\n",
    "        score = 0\n",
    "        score += ssim(ddim_canny[..., slice:slice+1, i].squeeze(), canny[..., slice:slice+1, i].squeeze(), data_range=1)\n",
    "        # score += ssim(ddim_data[..., slice:slice+1, i].squeeze(), data[..., slice:slice+1, i].squeeze(), data_range=1, gaussian_weights=True)\n",
    "        ssim_scores_ddim.append(score)\n",
    "ssim_scores_ddim = np.array(ssim_scores_ddim)\n",
    "\n",
    "ssim_scores_our = []\n",
    "for slice in range(10, canny.shape[-2]-10):\n",
    "    for i in range(canny.shape[-1]):\n",
    "        score = 0\n",
    "        score += ssim(our_canny[..., slice:slice+1, i].squeeze(), canny[..., slice:slice+1, i].squeeze(), data_range=1)\n",
    "        # score += ssim(our_data[..., slice:slice+1, i].squeeze(), data[..., slice:slice+1, i].squeeze(), data_range=1, gaussian_weights=True)\n",
    "        ssim_scores_our.append(score)\n",
    "ssim_scores_our = np.array(ssim_scores_our)\n",
    "\n",
    "\n",
    "print(np.mean(ssim_scores_p2s))\n",
    "print(np.mean(ssim_scores_ddm))\n",
    "print(np.mean(ssim_scores_ddim))\n",
    "print(np.mean(ssim_scores_our))"
   ]
  },
  {
   "cell_type": "code",
   "execution_count": 12,
   "metadata": {},
   "outputs": [
    {
     "data": {
      "image/png": "[encoded data removed]",
      "text/plain": [
       "<Figure size 640x480 with 1 Axes>"
      ]
     },
     "metadata": {},
     "output_type": "display_data"
    }
   ],
   "source": [
    "import pandas as pd\n",
    "import seaborn as sns\n",
    "df_score = pd.DataFrame({'P2S SSIM':ssim_scores_p2s,\n",
    "                        'DDM SSIM':ssim_scores_ddm,\n",
    "                        'DDIM SSIM':ssim_scores_ddim,\n",
    "                        'Ours SSIM':ssim_scores_our})\n",
    "\n",
    "sns.set(style=\"whitegrid\")\n",
    "ax = sns.boxplot(x=\"variable\", y=\"value\", data=pd.melt(df_score), fliersize=0, sym='', palette=\"Set2\")"
   ]
  },
  {
   "cell_type": "code",
   "execution_count": 135,
   "metadata": {},
   "outputs": [],
   "source": [
    "hardi_fname = 'dataset/stanford_hardi/HARDI150.nii.gz'\n",
    "hardi_bval_fname = 'dataset/stanford_hardi/HARDI150.bval'\n",
    "hardi_bvec_fname = 'dataset/stanford_hardi/HARDI150.bvec'\n",
    "\n",
    "data, affine = load_nifti(hardi_fname)\n",
    "data = norm_data(data)\n",
    "bvals, bvecs = read_bvals_bvecs(hardi_bval_fname, hardi_bvec_fname)\n",
    "voxel_mask = [0] + list(range(10, 160))\n",
    "# voxel_mask = list(range(10, 160))\n",
    "data = data[..., voxel_mask]\n",
    "bvals = bvals[voxel_mask]\n",
    "bvecs = bvecs[voxel_mask]\n",
    "\n",
    "our_data, affine = load_nifti('experiments/hardi150_denoise_230430_115119_control/results/hardi150_denoised.nii.gz')\n",
    "our_data = norm_data(our_data)\n",
    "our_data = np.concatenate([data[..., [0]], our_data], axis=-1)\n",
    "\n",
    "\n",
    "ddm_data, affine = load_nifti('experiments/hardi150_denoise_230426_211632_baseline/results/hardi150_denoised.nii.gz')\n",
    "ddm_data = norm_data(ddm_data)\n",
    "ddm_data = np.concatenate([data[..., [0]], ddm_data], axis=-1)"
   ]
  },
  {
   "cell_type": "code",
   "execution_count": 112,
   "metadata": {},
   "outputs": [
    {
     "name": "stdout",
     "output_type": "stream",
     "text": [
      "Computing brain mask...\n",
      "Computing tensors...\n"
     ]
    }
   ],
   "source": [
    "# data = our_data\n",
    "data = ddm_data\n",
    "gtab = gradient_table(bvals, bvecs)\n",
    "\n",
    "print('Computing brain mask...')\n",
    "b0_mask, mask = median_otsu(data, vol_idx=[0])\n",
    "\n",
    "print('Computing tensors...')\n",
    "tenmodel = TensorModel(gtab)\n",
    "tensorfit = tenmodel.fit(data, mask=mask)"
   ]
  },
  {
   "cell_type": "code",
   "execution_count": 119,
   "metadata": {},
   "outputs": [
    {
     "name": "stdout",
     "output_type": "stream",
     "text": [
      "Computing worst-case/best-case SNR using the corpus callosum...\n"
     ]
    },
    {
     "name": "stderr",
     "output_type": "stream",
     "text": [
      "/tmp/ipykernel_278308/3204198753.py:36: MatplotlibDeprecationWarning: savefig() got unexpected keyword argument \"cmap\" which is no longer supported as of 3.3 and will become an error in 3.6\n",
      "  fig.savefig(\"./tmp/CC_segmentation.png\", bbox_inches='tight', cmap='plasma')\n"
     ]
    },
    {
     "data": {
      "image/png": "[encoded data removed]",
      "text/plain": [
       "<Figure size 640x480 with 2 Axes>"
      ]
     },
     "metadata": {},
     "output_type": "display_data"
    }
   ],
   "source": [
    "print('Computing worst-case/best-case SNR using the corpus callosum...')\n",
    "\n",
    "threshold = (0.6, 1, 0, 0.1, 0, 0.1)\n",
    "CC_box = np.zeros_like(data[..., 0])\n",
    "\n",
    "mins, maxs = bounding_box(mask)\n",
    "mins = np.array(mins)\n",
    "maxs = np.array(maxs)\n",
    "diff = (maxs - mins) // 4\n",
    "bounds_min = mins + diff\n",
    "bounds_max = maxs - diff\n",
    "\n",
    "CC_box[bounds_min[0]:bounds_max[0],\n",
    "       bounds_min[1]:bounds_max[1],\n",
    "       bounds_min[2]:bounds_max[2]] = 1\n",
    "\n",
    "mask_cc_part, cfa = segment_from_cfa(tensorfit, CC_box, threshold,\n",
    "                                     return_cfa=True)\n",
    "\n",
    "save_nifti('./tmp/cfa_CC_part.nii.gz', (cfa*255).astype(np.uint8), affine)\n",
    "save_nifti('./tmp/mask_CC_part.nii.gz', mask_cc_part.astype(np.uint8), affine)\n",
    "\n",
    "\n",
    "region = 40\n",
    "fig = plt.figure('Corpus callosum segmentation')\n",
    "plt.subplot(1, 2, 1)\n",
    "plt.title(\"Corpus callosum (CC)\")\n",
    "plt.axis('off')\n",
    "red = cfa[..., 0]\n",
    "plt.imshow(np.rot90(red[:, :, region]), cmap='plasma')\n",
    "\n",
    "plt.subplot(1, 2, 2)\n",
    "plt.title(\"CC mask used for SNR computation\")\n",
    "plt.axis('off')\n",
    "plt.imshow(np.rot90(mask_cc_part[:, :, region]), cmap='plasma')\n",
    "fig.savefig(\"./tmp/CC_segmentation.png\", bbox_inches='tight', cmap='plasma')"
   ]
  },
  {
   "cell_type": "code",
   "execution_count": 120,
   "metadata": {},
   "outputs": [],
   "source": [
    "mean_signal = np.mean(data[mask_cc_part], axis=0)"
   ]
  },
  {
   "cell_type": "code",
   "execution_count": 121,
   "metadata": {},
   "outputs": [
    {
     "data": {
      "text/plain": [
       "18"
      ]
     },
     "execution_count": 121,
     "metadata": {},
     "output_type": "execute_result"
    }
   ],
   "source": [
    "np.sum(mask_cc_part)"
   ]
  },
  {
   "cell_type": "code",
   "execution_count": 116,
   "metadata": {},
   "outputs": [
    {
     "name": "stdout",
     "output_type": "stream",
     "text": [
      "Noise standard deviation sigma=  0.0082704965\n"
     ]
    }
   ],
   "source": [
    "mask_noise = binary_dilation(mask, iterations=10)\n",
    "mask_noise[..., :mask_noise.shape[-1]//2] = 1\n",
    "mask_noise = ~mask_noise\n",
    "\n",
    "save_nifti('mask_noise.nii.gz', mask_noise.astype(np.uint8), affine)\n",
    "\n",
    "noise_std = np.std(data[mask_noise, :])\n",
    "print('Noise standard deviation sigma= ', noise_std)"
   ]
  },
  {
   "cell_type": "code",
   "execution_count": 55,
   "metadata": {},
   "outputs": [
    {
     "name": "stdout",
     "output_type": "stream",
     "text": [
      "SNR for the b=0 image is : nan\n",
      "SNR for direction 49   [ 0.98875  0.1177  -0.09229] is : nan\n",
      "SNR for direction 48   [-0.05039    0.99871    0.0054406] is : nan\n",
      "SNR for direction 117   [-0.11825  -0.039925  0.99218 ] is : nan\n"
     ]
    }
   ],
   "source": [
    "idx = np.sum(gtab.bvecs, axis=-1) == 0\n",
    "gtab.bvecs[idx] = np.inf\n",
    "axis_X = np.argmin(np.sum((gtab.bvecs-np.array([1, 0, 0]))**2, axis=-1))\n",
    "axis_Y = np.argmin(np.sum((gtab.bvecs-np.array([0, 1, 0]))**2, axis=-1))\n",
    "axis_Z = np.argmin(np.sum((gtab.bvecs-np.array([0, 0, 1]))**2, axis=-1))\n",
    "\n",
    "for direction in [0, axis_X, axis_Y, axis_Z]:\n",
    "    SNR = mean_signal[direction]/noise_std\n",
    "    if direction == 0:\n",
    "        print(\"SNR for the b=0 image is :\", SNR)\n",
    "    else:\n",
    "        print(\"SNR for direction\", direction, \" \",\n",
    "              gtab.bvecs[direction], \"is :\", SNR)"
   ]
  },
  {
   "cell_type": "code",
   "execution_count": null,
   "metadata": {},
   "outputs": [],
   "source": []
  }
 ],
 "metadata": {
  "kernelspec": {
   "display_name": "tiange",
   "language": "python",
   "name": "python3"
  },
  "language_info": {
   "codemirror_mode": {
    "name": "ipython",
    "version": 3
   },
   "file_extension": ".py",
   "mimetype": "text/x-python",
   "name": "python",
   "nbconvert_exporter": "python",
   "pygments_lexer": "ipython3",
   "version": "3.8.13"
  },
  "orig_nbformat": 4
 },
 "nbformat": 4,
 "nbformat_minor": 2
}
